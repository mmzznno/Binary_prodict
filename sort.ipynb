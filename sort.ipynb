{
  "nbformat": 4,
  "nbformat_minor": 0,
  "metadata": {
    "colab": {
      "provenance": [],
      "authorship_tag": "ABX9TyNELTen0/r++widArnrw7Qu",
      "include_colab_link": true
    },
    "kernelspec": {
      "name": "python3",
      "display_name": "Python 3"
    },
    "language_info": {
      "name": "python"
    }
  },
  "cells": [
    {
      "cell_type": "markdown",
      "metadata": {
        "id": "view-in-github",
        "colab_type": "text"
      },
      "source": [
        "<a href=\"https://colab.research.google.com/github/mmzznno/Binary_prodict/blob/main/sort.ipynb\" target=\"_parent\"><img src=\"https://colab.research.google.com/assets/colab-badge.svg\" alt=\"Open In Colab\"/></a>"
      ]
    },
    {
      "cell_type": "code",
      "execution_count": null,
      "metadata": {
        "id": "DsHFyoTzt9VF"
      },
      "outputs": [],
      "source": [
        "import pandas as pd\n",
        "\n",
        "# Replace with your actual file paths\n",
        "file_paths = ['file1.csv', 'file2.csv', 'file3.csv']\n",
        "\n",
        "# List to hold dataframes\n",
        "dfs = []\n",
        "\n",
        "# Read and append each CSV file\n",
        "for file in file_paths:\n",
        "    try:\n",
        "        df = pd.read_csv(file)\n",
        "        dfs.append(df)\n",
        "    except FileNotFoundError:\n",
        "        print(f\"Error: File not found at {file}\")\n",
        "    except Exception as e:\n",
        "        print(f\"An error occurred while reading {file}: {e}\")\n",
        "\n",
        "# Concatenate all dataframes\n",
        "if dfs:\n",
        "    combined_df = pd.concat(dfs, ignore_index=True)\n",
        "\n",
        "    # Find duplicate rows\n",
        "    duplicate_rows = combined_df[combined_df.duplicated(keep=False)]\n",
        "\n",
        "    print(\"Combined DataFrame:\")\n",
        "    display(combined_df.head())\n",
        "\n",
        "    print(\"\\nDuplicate Rows:\")\n",
        "    if not duplicate_rows.empty:\n",
        "        display(duplicate_rows)\n",
        "    else:\n",
        "        print(\"No duplicate rows found.\")\n",
        "else:\n",
        "    print(\"No dataframes were loaded.\")"
      ]
    }
  ]
}