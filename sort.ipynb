{
  "nbformat": 4,
  "nbformat_minor": 0,
  "metadata": {
    "colab": {
      "provenance": [],
      "authorship_tag": "ABX9TyNu0r96qiL3hq4O9tl0xPOx",
      "include_colab_link": true
    },
    "kernelspec": {
      "name": "python3",
      "display_name": "Python 3"
    },
    "language_info": {
      "name": "python"
    }
  },
  "cells": [
    {
      "cell_type": "markdown",
      "metadata": {
        "id": "view-in-github",
        "colab_type": "text"
      },
      "source": [
        "<a href=\"https://colab.research.google.com/github/mmzznno/Binary_prodict/blob/main/sort.ipynb\" target=\"_parent\"><img src=\"https://colab.research.google.com/assets/colab-badge.svg\" alt=\"Open In Colab\"/></a>"
      ]
    },
    {
      "cell_type": "code",
      "execution_count": null,
      "metadata": {
        "id": "DsHFyoTzt9VF",
        "colab": {
          "base_uri": "https://localhost:8080/"
        },
        "outputId": "74ee95e4-6b72-4d54-d9d5-657884e4a40c"
      },
      "outputs": [
        {
          "output_type": "stream",
          "name": "stdout",
          "text": [
            "Empty DataFrame\n",
            "Columns: [分類コード, 分  　　類　　  名, 死因基本分類コード]\n",
            "Index: []\n"
          ]
        }
      ],
      "source": [
        "import pandas as pd\n",
        "\n",
        "# ファイルを定義\n",
        "\n",
        "file_paths = ['kansen1.xlsx', 'kansen2.xlsx', 'kansen3.xlsx']\n",
        "\n",
        "# データフレームの初期化\n",
        "\n",
        "dfs = []\n",
        "\n",
        "# ファイル読み込み\n",
        "for file in file_paths:\n",
        "    try:\n",
        "        df = pd.read_excel(file)\n",
        "        dfs.append(df)\n",
        "\n",
        "    except FileNotFoundError:\n",
        "\n",
        "        print(f\"Error: File not found at {file}\")\n",
        "\n",
        "    except Exception as e:\n",
        "        print(f\"An error occurred while reading {file}: {e}\")\n",
        "\n",
        "# すべてのデータフレーム結合\n",
        "if dfs:\n",
        "    combined_df = pd.concat(dfs, ignore_index=True)\n",
        "\n",
        "\n",
        "    # 重複以外を抽出し表示する\n",
        "\n",
        "    duplicate_rows = combined_df.drop_duplicates(keep=False)\n",
        "\n",
        "    print(duplicate_rows)\n",
        "\n",
        "else:\n",
        "\n",
        "    print(\"データフレームはありません\")\n",
        "\n",
        "\n",
        "\n"
      ]
    }
  ]
}