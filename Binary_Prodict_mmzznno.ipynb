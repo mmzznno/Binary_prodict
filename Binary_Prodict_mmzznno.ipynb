{
  "nbformat": 4,
  "nbformat_minor": 0,
  "metadata": {
    "colab": {
      "provenance": [],
      "authorship_tag": "ABX9TyPA5q/TQeU4R2P+O3LLLN0V",
      "include_colab_link": true
    },
    "kernelspec": {
      "name": "python3",
      "display_name": "Python 3"
    },
    "language_info": {
      "name": "python"
    }
  },
  "cells": [
    {
      "cell_type": "markdown",
      "metadata": {
        "id": "view-in-github",
        "colab_type": "text"
      },
      "source": [
        "<a href=\"https://colab.research.google.com/github/mmzznno/Binary_prodict/blob/main/Binary_Prodict_mmzznno.ipynb\" target=\"_parent\"><img src=\"https://colab.research.google.com/assets/colab-badge.svg\" alt=\"Open In Colab\"/></a>"
      ]
    },
    {
      "cell_type": "code",
      "execution_count": null,
      "metadata": {
        "colab": {
          "base_uri": "https://localhost:8080/",
          "height": 399
        },
        "id": "E2E90GyZT8CO",
        "outputId": "1b05057f-99e8-432d-8c68-869190265bc1",
        "collapsed": true
      },
      "outputs": [
        {
          "output_type": "error",
          "ename": "ModuleNotFoundError",
          "evalue": "No module named 'optuna'",
          "traceback": [
            "\u001b[0;31m---------------------------------------------------------------------------\u001b[0m",
            "\u001b[0;31mModuleNotFoundError\u001b[0m                       Traceback (most recent call last)",
            "\u001b[0;32m<ipython-input-6-1448bf2d6474>\u001b[0m in \u001b[0;36m<cell line: 0>\u001b[0;34m()\u001b[0m\n\u001b[1;32m      7\u001b[0m \u001b[0;32mfrom\u001b[0m \u001b[0msklearn\u001b[0m\u001b[0;34m.\u001b[0m\u001b[0mmetrics\u001b[0m \u001b[0;32mimport\u001b[0m \u001b[0mroc_auc_score\u001b[0m\u001b[0;34m\u001b[0m\u001b[0;34m\u001b[0m\u001b[0m\n\u001b[1;32m      8\u001b[0m \u001b[0;32mfrom\u001b[0m \u001b[0msklearn\u001b[0m\u001b[0;34m.\u001b[0m\u001b[0mmodel_selection\u001b[0m \u001b[0;32mimport\u001b[0m \u001b[0mtrain_test_split\u001b[0m\u001b[0;34m,\u001b[0m \u001b[0mcross_val_score\u001b[0m\u001b[0;34m\u001b[0m\u001b[0;34m\u001b[0m\u001b[0m\n\u001b[0;32m----> 9\u001b[0;31m \u001b[0;32mimport\u001b[0m \u001b[0moptuna\u001b[0m\u001b[0;34m\u001b[0m\u001b[0;34m\u001b[0m\u001b[0m\n\u001b[0m\u001b[1;32m     10\u001b[0m \u001b[0;34m\u001b[0m\u001b[0m\n\u001b[1;32m     11\u001b[0m \u001b[0;32mimport\u001b[0m \u001b[0mwarnings\u001b[0m\u001b[0;34m\u001b[0m\u001b[0;34m\u001b[0m\u001b[0m\n",
            "\u001b[0;31mModuleNotFoundError\u001b[0m: No module named 'optuna'",
            "",
            "\u001b[0;31m---------------------------------------------------------------------------\u001b[0;32m\nNOTE: If your import is failing due to a missing package, you can\nmanually install dependencies using either !pip or !apt.\n\nTo view examples of installing some common dependencies, click the\n\"Open Examples\" button below.\n\u001b[0;31m---------------------------------------------------------------------------\u001b[0m\n"
          ],
          "errorDetails": {
            "actions": [
              {
                "action": "open_url",
                "actionText": "Open Examples",
                "url": "/notebooks/snippets/importing_libraries.ipynb"
              }
            ]
          }
        }
      ],
      "source": [
        "import pandas as pd\n",
        "import numpy as np\n",
        "import seaborn as sns\n",
        "import matplotlib.pyplot as plt\n",
        "import lightgbm as lgb\n",
        "from sklearn.model_selection import train_test_split\n",
        "\n",
        "from sklearn.preprocessing import StandardScaler, OrdinalEncoder, LabelEncoder\n",
        "from sklearn.metrics import roc_auc_score\n",
        "from sklearn.model_selection import train_test_split, cross_val_score\n",
        "import optuna\n",
        "\n",
        "import warnings\n",
        "warnings.filterwarnings('ignore')\n",
        "\n",
        "df_train= pd.read_csv(\"/kaggle/input/playground-series-s5e3/train.csv\").set_index('id')\n",
        "df_test= pd.read_csv(\"/kaggle/input/playground-series-s5e3/test.csv\").set_index('id')\n",
        "df_subm= pd.read_csv(\"/kaggle/input/playground-series-s5e3/sample_submission.csv\")\n",
        "\n",
        "plt.figure(figsize=(12, 10))\n",
        "sns.heatmap(data=df_train.corr(), annot=True, linewidths=0.2);\n",
        "\n",
        "#特定の属性だけで実施する。(cloud/sunshine）\n",
        "df_train= pd.read_csv(\"/kaggle/input/playground-series-s5e3/train.csv\").set_index('id')\n",
        "df_test= pd.read_csv(\"/kaggle/input/playground-series-s5e3/test.csv\").set_index('id')\n",
        "\n",
        "X_target = df_train[(df_train['cloud'] > 77 )]\n",
        "\n",
        "X_target= df_train[['cloud']]\n",
        "\n",
        "y = df_train[['rainfall']]\n",
        "\n",
        "X_asses = df_test[['cloud']]\n",
        "\n",
        "# グラフの作成\n",
        "plt.scatter(X_target, y)\n",
        "\n",
        "# グラフの装飾\n",
        "plt.title(\"cloud\")\n",
        "plt.xlabel(\"X-cloud\")\n",
        "plt.ylabel(\"Y-rain\")\n",
        "\n",
        "# グラフの表示\n",
        "plt.show()\n",
        "# 箱ひげ図を作成\n",
        "plt.boxplot(X_target)\n",
        "\n",
        "# グラフを表示\n",
        "plt.show()\n",
        "\n",
        "X_train, X_test, y_train, y_test = train_test_split(X_target, y, test_size=0.25, random_state=0)\n",
        "\n",
        "import lightgbm as lgb\n",
        "\n",
        "# LightGBMの学習\n",
        "model = lgb.LGBMRegressor(objective= 'binary', metric='auc', random_state=15,\n",
        "                         learning_rate=0.01)\n",
        "model.fit(X_train, y_train)\n",
        "\n",
        "# 予測と評価\n",
        "y_pred = model.predict(X_asses)\n",
        "\n",
        "# Save Submission\n",
        "\n",
        "df_subm['rainfall'] = y_pred\n",
        "df_subm.to_csv('submission.csv', index=False)\n",
        "df_subm.head()\n",
        "\n"
      ]
    }
  ]
}